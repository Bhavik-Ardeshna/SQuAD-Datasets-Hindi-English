{
 "cells": [
  {
   "cell_type": "code",
   "execution_count": 1,
   "id": "5ae1b8e2",
   "metadata": {},
   "outputs": [],
   "source": [
    "import pandas as pd\n",
    "import numpy as np\n",
    "import json\n",
    "\n",
    "import matplotlib.pyplot as plt\n",
    "%matplotlib inline"
   ]
  },
  {
   "cell_type": "code",
   "execution_count": 160,
   "id": "377db42f",
   "metadata": {},
   "outputs": [],
   "source": [
    "kaggle_dataset = pd.read_csv(\"./train.csv\")\n",
    "kaggle_dataset_hindi = kaggle_dataset[kaggle_dataset['language']=='hindi']"
   ]
  },
  {
   "cell_type": "code",
   "execution_count": 161,
   "id": "13eb8fde",
   "metadata": {},
   "outputs": [],
   "source": [
    "kaggle_dataset_hindi = kaggle_dataset_hindi.drop(columns='language',axis=1)"
   ]
  },
  {
   "cell_type": "code",
   "execution_count": 162,
   "id": "41ac8bd9",
   "metadata": {},
   "outputs": [],
   "source": [
    "kaggle_dataset_hindi.reset_index(inplace = True)"
   ]
  },
  {
   "cell_type": "code",
   "execution_count": 163,
   "id": "4a9cc561",
   "metadata": {},
   "outputs": [
    {
     "data": {
      "text/html": [
       "<div>\n",
       "<style scoped>\n",
       "    .dataframe tbody tr th:only-of-type {\n",
       "        vertical-align: middle;\n",
       "    }\n",
       "\n",
       "    .dataframe tbody tr th {\n",
       "        vertical-align: top;\n",
       "    }\n",
       "\n",
       "    .dataframe thead th {\n",
       "        text-align: right;\n",
       "    }\n",
       "</style>\n",
       "<table border=\"1\" class=\"dataframe\">\n",
       "  <thead>\n",
       "    <tr style=\"text-align: right;\">\n",
       "      <th></th>\n",
       "      <th>index</th>\n",
       "      <th>id</th>\n",
       "      <th>context</th>\n",
       "      <th>question</th>\n",
       "      <th>answer_text</th>\n",
       "      <th>answer_start</th>\n",
       "    </tr>\n",
       "  </thead>\n",
       "  <tbody>\n",
       "    <tr>\n",
       "      <th>0</th>\n",
       "      <td>368</td>\n",
       "      <td>416091aeb</td>\n",
       "      <td>विषाणु अकोशिकीय अतिसूक्ष्म जीव हैं जो केवल जीव...</td>\n",
       "      <td>सन १८८६ में किसने बताया कि तम्बाकू में मोजेक र...</td>\n",
       "      <td>एडोल्फ मेयर</td>\n",
       "      <td>935</td>\n",
       "    </tr>\n",
       "    <tr>\n",
       "      <th>1</th>\n",
       "      <td>369</td>\n",
       "      <td>9d274ae3c</td>\n",
       "      <td>फ्लोरीन एक रासायनिक तत्व है। यह आवर्त सारणी (p...</td>\n",
       "      <td>फ्लोरीन की परमाणु संख्या क्या है?</td>\n",
       "      <td>9</td>\n",
       "      <td>166</td>\n",
       "    </tr>\n",
       "    <tr>\n",
       "      <th>2</th>\n",
       "      <td>370</td>\n",
       "      <td>da7397c5e</td>\n",
       "      <td>सीऐटल (अंग्रेजी: Seattle) अमेरिका के वाशिंगटन ...</td>\n",
       "      <td>सीटल शहर कहाँ स्थित है?</td>\n",
       "      <td>अमेरिका के वाशिंगटन राज्य</td>\n",
       "      <td>26</td>\n",
       "    </tr>\n",
       "    <tr>\n",
       "      <th>3</th>\n",
       "      <td>371</td>\n",
       "      <td>661880e43</td>\n",
       "      <td>सूर्य अथवा सूरज सौरमंडल के केन्द्र में स्थित ए...</td>\n",
       "      <td>पृथ्वी को सूर्य की परिक्रमा करने में कितने दिन...</td>\n",
       "      <td>28 दिनों</td>\n",
       "      <td>2762</td>\n",
       "    </tr>\n",
       "    <tr>\n",
       "      <th>4</th>\n",
       "      <td>372</td>\n",
       "      <td>3e3a2bed4</td>\n",
       "      <td>दिल्ली नगर निगम एक शहर व नगर निगम है, जो दिल्ल...</td>\n",
       "      <td>दिल्ली नगर निगम, दिल्ली के कितने जिलों में कार...</td>\n",
       "      <td>कुल नौ जिलों</td>\n",
       "      <td>51</td>\n",
       "    </tr>\n",
       "  </tbody>\n",
       "</table>\n",
       "</div>"
      ],
      "text/plain": [
       "   index         id                                            context  \\\n",
       "0    368  416091aeb  विषाणु अकोशिकीय अतिसूक्ष्म जीव हैं जो केवल जीव...   \n",
       "1    369  9d274ae3c  फ्लोरीन एक रासायनिक तत्व है। यह आवर्त सारणी (p...   \n",
       "2    370  da7397c5e  सीऐटल (अंग्रेजी: Seattle) अमेरिका के वाशिंगटन ...   \n",
       "3    371  661880e43  सूर्य अथवा सूरज सौरमंडल के केन्द्र में स्थित ए...   \n",
       "4    372  3e3a2bed4  दिल्ली नगर निगम एक शहर व नगर निगम है, जो दिल्ल...   \n",
       "\n",
       "                                            question  \\\n",
       "0  सन १८८६ में किसने बताया कि तम्बाकू में मोजेक र...   \n",
       "1                  फ्लोरीन की परमाणु संख्या क्या है?   \n",
       "2                            सीटल शहर कहाँ स्थित है?   \n",
       "3  पृथ्वी को सूर्य की परिक्रमा करने में कितने दिन...   \n",
       "4  दिल्ली नगर निगम, दिल्ली के कितने जिलों में कार...   \n",
       "\n",
       "                 answer_text  answer_start  \n",
       "0                एडोल्फ मेयर           935  \n",
       "1                          9           166  \n",
       "2  अमेरिका के वाशिंगटन राज्य            26  \n",
       "3                   28 दिनों          2762  \n",
       "4               कुल नौ जिलों            51  "
      ]
     },
     "execution_count": 163,
     "metadata": {},
     "output_type": "execute_result"
    }
   ],
   "source": [
    "kaggle_dataset_hindi.head()"
   ]
  },
  {
   "cell_type": "code",
   "execution_count": 164,
   "id": "17381943",
   "metadata": {},
   "outputs": [
    {
     "data": {
      "text/html": [
       "<div>\n",
       "<style scoped>\n",
       "    .dataframe tbody tr th:only-of-type {\n",
       "        vertical-align: middle;\n",
       "    }\n",
       "\n",
       "    .dataframe tbody tr th {\n",
       "        vertical-align: top;\n",
       "    }\n",
       "\n",
       "    .dataframe thead th {\n",
       "        text-align: right;\n",
       "    }\n",
       "</style>\n",
       "<table border=\"1\" class=\"dataframe\">\n",
       "  <thead>\n",
       "    <tr style=\"text-align: right;\">\n",
       "      <th></th>\n",
       "      <th>id</th>\n",
       "      <th>context</th>\n",
       "      <th>question</th>\n",
       "      <th>answer_text</th>\n",
       "      <th>answer_start</th>\n",
       "    </tr>\n",
       "  </thead>\n",
       "  <tbody>\n",
       "    <tr>\n",
       "      <th>0</th>\n",
       "      <td>416091aeb</td>\n",
       "      <td>विषाणु अकोशिकीय अतिसूक्ष्म जीव हैं जो केवल जीव...</td>\n",
       "      <td>सन १८८६ में किसने बताया कि तम्बाकू में मोजेक र...</td>\n",
       "      <td>एडोल्फ मेयर</td>\n",
       "      <td>935</td>\n",
       "    </tr>\n",
       "    <tr>\n",
       "      <th>1</th>\n",
       "      <td>9d274ae3c</td>\n",
       "      <td>फ्लोरीन एक रासायनिक तत्व है। यह आवर्त सारणी (p...</td>\n",
       "      <td>फ्लोरीन की परमाणु संख्या क्या है?</td>\n",
       "      <td>9</td>\n",
       "      <td>166</td>\n",
       "    </tr>\n",
       "    <tr>\n",
       "      <th>2</th>\n",
       "      <td>da7397c5e</td>\n",
       "      <td>सीऐटल (अंग्रेजी: Seattle) अमेरिका के वाशिंगटन ...</td>\n",
       "      <td>सीटल शहर कहाँ स्थित है?</td>\n",
       "      <td>अमेरिका के वाशिंगटन राज्य</td>\n",
       "      <td>26</td>\n",
       "    </tr>\n",
       "    <tr>\n",
       "      <th>3</th>\n",
       "      <td>661880e43</td>\n",
       "      <td>सूर्य अथवा सूरज सौरमंडल के केन्द्र में स्थित ए...</td>\n",
       "      <td>पृथ्वी को सूर्य की परिक्रमा करने में कितने दिन...</td>\n",
       "      <td>28 दिनों</td>\n",
       "      <td>2762</td>\n",
       "    </tr>\n",
       "    <tr>\n",
       "      <th>4</th>\n",
       "      <td>3e3a2bed4</td>\n",
       "      <td>दिल्ली नगर निगम एक शहर व नगर निगम है, जो दिल्ल...</td>\n",
       "      <td>दिल्ली नगर निगम, दिल्ली के कितने जिलों में कार...</td>\n",
       "      <td>कुल नौ जिलों</td>\n",
       "      <td>51</td>\n",
       "    </tr>\n",
       "  </tbody>\n",
       "</table>\n",
       "</div>"
      ],
      "text/plain": [
       "          id                                            context  \\\n",
       "0  416091aeb  विषाणु अकोशिकीय अतिसूक्ष्म जीव हैं जो केवल जीव...   \n",
       "1  9d274ae3c  फ्लोरीन एक रासायनिक तत्व है। यह आवर्त सारणी (p...   \n",
       "2  da7397c5e  सीऐटल (अंग्रेजी: Seattle) अमेरिका के वाशिंगटन ...   \n",
       "3  661880e43  सूर्य अथवा सूरज सौरमंडल के केन्द्र में स्थित ए...   \n",
       "4  3e3a2bed4  दिल्ली नगर निगम एक शहर व नगर निगम है, जो दिल्ल...   \n",
       "\n",
       "                                            question  \\\n",
       "0  सन १८८६ में किसने बताया कि तम्बाकू में मोजेक र...   \n",
       "1                  फ्लोरीन की परमाणु संख्या क्या है?   \n",
       "2                            सीटल शहर कहाँ स्थित है?   \n",
       "3  पृथ्वी को सूर्य की परिक्रमा करने में कितने दिन...   \n",
       "4  दिल्ली नगर निगम, दिल्ली के कितने जिलों में कार...   \n",
       "\n",
       "                 answer_text  answer_start  \n",
       "0                एडोल्फ मेयर           935  \n",
       "1                          9           166  \n",
       "2  अमेरिका के वाशिंगटन राज्य            26  \n",
       "3                   28 दिनों          2762  \n",
       "4               कुल नौ जिलों            51  "
      ]
     },
     "execution_count": 164,
     "metadata": {},
     "output_type": "execute_result"
    }
   ],
   "source": [
    "kaggle_dataset_hindi = kaggle_dataset_hindi.drop(columns='index',axis=1)\n",
    "kaggle_dataset_hindi.head()"
   ]
  },
  {
   "cell_type": "code",
   "execution_count": 165,
   "id": "5b4034e5",
   "metadata": {},
   "outputs": [],
   "source": [
    "paragraphs = {}\n",
    "hindi_val = {\n",
    "      \"context\":\"\",\n",
    "      \"qas\":[\n",
    "        {\n",
    "            \"answers\":[\n",
    "                  {\n",
    "                    \"answer_start\":\"\",\n",
    "                    \"text\":\"\"\n",
    "                  }\n",
    "          ],\n",
    "          \"id\":\"\",\n",
    "          \"question\":\"\"\n",
    "       }\n",
    "     ]\n",
    "}"
   ]
  },
  {
   "cell_type": "code",
   "execution_count": 166,
   "id": "a2a65600",
   "metadata": {},
   "outputs": [],
   "source": [
    "for i,d in kaggle_dataset_hindi.iterrows():\n",
    "  hindi_val[\"context\"] = d.context\n",
    "  hindi_val[\"qas\"][0][\"answers\"][0][\"answer_start\"] = d.answer_start\n",
    "  hindi_val[\"qas\"][0][\"answers\"][0][\"text\"] = d.answer_text\n",
    "  hindi_val[\"qas\"][0]['id'] = d.id\n",
    "  hindi_val[\"qas\"][0]['question'] = d.question\n",
    "  temp = hindi_val.copy()\n",
    "  paragraphs[i] = temp\n"
   ]
  },
  {
   "cell_type": "code",
   "execution_count": 167,
   "id": "a1e8e8b7",
   "metadata": {},
   "outputs": [
    {
     "ename": "TypeError",
     "evalue": "unhashable type: 'slice'",
     "output_type": "error",
     "traceback": [
      "\u001b[0;31m---------------------------------------------------------------------------\u001b[0m",
      "\u001b[0;31mTypeError\u001b[0m                                 Traceback (most recent call last)",
      "\u001b[0;32m<ipython-input-167-c367bcf34f5e>\u001b[0m in \u001b[0;36m<module>\u001b[0;34m\u001b[0m\n\u001b[0;32m----> 1\u001b[0;31m \u001b[0mprint\u001b[0m\u001b[0;34m(\u001b[0m\u001b[0mparagraphs\u001b[0m\u001b[0;34m[\u001b[0m\u001b[0;36m0\u001b[0m\u001b[0;34m:\u001b[0m\u001b[0;36m3\u001b[0m\u001b[0;34m]\u001b[0m\u001b[0;34m)\u001b[0m\u001b[0;34m\u001b[0m\u001b[0;34m\u001b[0m\u001b[0m\n\u001b[0m",
      "\u001b[0;31mTypeError\u001b[0m: unhashable type: 'slice'"
     ]
    }
   ],
   "source": [
    "print(paragraphs[0:3])\n"
   ]
  },
  {
   "cell_type": "code",
   "execution_count": 157,
   "id": "df42c2dc",
   "metadata": {},
   "outputs": [
    {
     "ename": "KeyError",
     "evalue": "0",
     "output_type": "error",
     "traceback": [
      "\u001b[0;31m---------------------------------------------------------------------------\u001b[0m",
      "\u001b[0;31mKeyError\u001b[0m                                  Traceback (most recent call last)",
      "\u001b[0;32m<ipython-input-157-4d867f0e1f79>\u001b[0m in \u001b[0;36m<module>\u001b[0;34m\u001b[0m\n\u001b[0;32m----> 1\u001b[0;31m \u001b[0mn_arr\u001b[0m \u001b[0;34m=\u001b[0m \u001b[0mlist\u001b[0m\u001b[0;34m(\u001b[0m\u001b[0;34m[\u001b[0m\u001b[0mparagraphs\u001b[0m\u001b[0;34m[\u001b[0m\u001b[0md\u001b[0m\u001b[0;34m]\u001b[0m\u001b[0;34m.\u001b[0m\u001b[0mcopy\u001b[0m\u001b[0;34m(\u001b[0m\u001b[0;34m)\u001b[0m \u001b[0;32mfor\u001b[0m \u001b[0md\u001b[0m \u001b[0;32min\u001b[0m \u001b[0mrange\u001b[0m\u001b[0;34m(\u001b[0m\u001b[0mlen\u001b[0m\u001b[0;34m(\u001b[0m\u001b[0mkaggle_dataset_hindi\u001b[0m\u001b[0;34m)\u001b[0m\u001b[0;34m)\u001b[0m\u001b[0;34m]\u001b[0m\u001b[0;34m)\u001b[0m\u001b[0;34m\u001b[0m\u001b[0;34m\u001b[0m\u001b[0m\n\u001b[0m",
      "\u001b[0;32m<ipython-input-157-4d867f0e1f79>\u001b[0m in \u001b[0;36m<listcomp>\u001b[0;34m(.0)\u001b[0m\n\u001b[0;32m----> 1\u001b[0;31m \u001b[0mn_arr\u001b[0m \u001b[0;34m=\u001b[0m \u001b[0mlist\u001b[0m\u001b[0;34m(\u001b[0m\u001b[0;34m[\u001b[0m\u001b[0mparagraphs\u001b[0m\u001b[0;34m[\u001b[0m\u001b[0md\u001b[0m\u001b[0;34m]\u001b[0m\u001b[0;34m.\u001b[0m\u001b[0mcopy\u001b[0m\u001b[0;34m(\u001b[0m\u001b[0;34m)\u001b[0m \u001b[0;32mfor\u001b[0m \u001b[0md\u001b[0m \u001b[0;32min\u001b[0m \u001b[0mrange\u001b[0m\u001b[0;34m(\u001b[0m\u001b[0mlen\u001b[0m\u001b[0;34m(\u001b[0m\u001b[0mkaggle_dataset_hindi\u001b[0m\u001b[0;34m)\u001b[0m\u001b[0;34m)\u001b[0m\u001b[0;34m]\u001b[0m\u001b[0;34m)\u001b[0m\u001b[0;34m\u001b[0m\u001b[0;34m\u001b[0m\u001b[0m\n\u001b[0m",
      "\u001b[0;31mKeyError\u001b[0m: 0"
     ]
    }
   ],
   "source": [
    "n_arr = list([paragraphs[d].copy() for d in range(len(kaggle_dataset_hindi))])"
   ]
  },
  {
   "cell_type": "code",
   "execution_count": 152,
   "id": "3bc36851",
   "metadata": {},
   "outputs": [],
   "source": [
    "paragraphs = {\n",
    "    \"paragraphs\": n_arr\n",
    "} "
   ]
  },
  {
   "cell_type": "code",
   "execution_count": null,
   "id": "a5083741",
   "metadata": {},
   "outputs": [],
   "source": []
  },
  {
   "cell_type": "code",
   "execution_count": 155,
   "id": "cca05d0f",
   "metadata": {},
   "outputs": [],
   "source": [
    "\n",
    "hindi_val_dataframe = pd.DataFrame(paragraphs) \n",
    "hindi_val_dataframe.to_json(\"./train_val_hindi.json\",orient=\"table\",index=False)"
   ]
  },
  {
   "cell_type": "code",
   "execution_count": 156,
   "id": "47300ebd",
   "metadata": {},
   "outputs": [
    {
     "data": {
      "text/html": [
       "<div>\n",
       "<style scoped>\n",
       "    .dataframe tbody tr th:only-of-type {\n",
       "        vertical-align: middle;\n",
       "    }\n",
       "\n",
       "    .dataframe tbody tr th {\n",
       "        vertical-align: top;\n",
       "    }\n",
       "\n",
       "    .dataframe thead th {\n",
       "        text-align: right;\n",
       "    }\n",
       "</style>\n",
       "<table border=\"1\" class=\"dataframe\">\n",
       "  <thead>\n",
       "    <tr style=\"text-align: right;\">\n",
       "      <th></th>\n",
       "      <th>paragraphs</th>\n",
       "    </tr>\n",
       "  </thead>\n",
       "  <tbody>\n",
       "    <tr>\n",
       "      <th>0</th>\n",
       "      <td>{'context': 'विषाणु अकोशिकीय अतिसूक्ष्म जीव है...</td>\n",
       "    </tr>\n",
       "    <tr>\n",
       "      <th>1</th>\n",
       "      <td>{'context': 'फ्लोरीन एक रासायनिक तत्व है। यह आ...</td>\n",
       "    </tr>\n",
       "    <tr>\n",
       "      <th>2</th>\n",
       "      <td>{'context': 'सीऐटल (अंग्रेजी: Seattle) अमेरिका...</td>\n",
       "    </tr>\n",
       "    <tr>\n",
       "      <th>3</th>\n",
       "      <td>{'context': 'सूर्य अथवा सूरज सौरमंडल के केन्द्...</td>\n",
       "    </tr>\n",
       "    <tr>\n",
       "      <th>4</th>\n",
       "      <td>{'context': 'दिल्ली नगर निगम एक शहर व नगर निगम...</td>\n",
       "    </tr>\n",
       "    <tr>\n",
       "      <th>...</th>\n",
       "      <td>...</td>\n",
       "    </tr>\n",
       "    <tr>\n",
       "      <th>741</th>\n",
       "      <td>{'context': 'स्वामी निगमानन्द परमहंस (18 अगस्त...</td>\n",
       "    </tr>\n",
       "    <tr>\n",
       "      <th>742</th>\n",
       "      <td>{'context': 'भरत मुनि ने नाट्यशास्त्र नामक प्र...</td>\n",
       "    </tr>\n",
       "    <tr>\n",
       "      <th>743</th>\n",
       "      <td>{'context': 'अग्नि पंचम (अग्नि-५) भारत की अन्त...</td>\n",
       "    </tr>\n",
       "    <tr>\n",
       "      <th>744</th>\n",
       "      <td>{'context': 'जलाल उद्दीन मोहम्मद अकबर () (१५ अ...</td>\n",
       "    </tr>\n",
       "    <tr>\n",
       "      <th>745</th>\n",
       "      <td>{'context': 'अमेरिका में जन्मीं अभिनेत्री तथा ...</td>\n",
       "    </tr>\n",
       "  </tbody>\n",
       "</table>\n",
       "<p>746 rows × 1 columns</p>\n",
       "</div>"
      ],
      "text/plain": [
       "                                            paragraphs\n",
       "0    {'context': 'विषाणु अकोशिकीय अतिसूक्ष्म जीव है...\n",
       "1    {'context': 'फ्लोरीन एक रासायनिक तत्व है। यह आ...\n",
       "2    {'context': 'सीऐटल (अंग्रेजी: Seattle) अमेरिका...\n",
       "3    {'context': 'सूर्य अथवा सूरज सौरमंडल के केन्द्...\n",
       "4    {'context': 'दिल्ली नगर निगम एक शहर व नगर निगम...\n",
       "..                                                 ...\n",
       "741  {'context': 'स्वामी निगमानन्द परमहंस (18 अगस्त...\n",
       "742  {'context': 'भरत मुनि ने नाट्यशास्त्र नामक प्र...\n",
       "743  {'context': 'अग्नि पंचम (अग्नि-५) भारत की अन्त...\n",
       "744  {'context': 'जलाल उद्दीन मोहम्मद अकबर () (१५ अ...\n",
       "745  {'context': 'अमेरिका में जन्मीं अभिनेत्री तथा ...\n",
       "\n",
       "[746 rows x 1 columns]"
      ]
     },
     "execution_count": 156,
     "metadata": {},
     "output_type": "execute_result"
    }
   ],
   "source": [
    "hindi_val_dataframe"
   ]
  },
  {
   "cell_type": "code",
   "execution_count": null,
   "id": "869934dd",
   "metadata": {},
   "outputs": [],
   "source": []
  }
 ],
 "metadata": {
  "kernelspec": {
   "display_name": "Python 3",
   "language": "python",
   "name": "python3"
  },
  "language_info": {
   "codemirror_mode": {
    "name": "ipython",
    "version": 3
   },
   "file_extension": ".py",
   "mimetype": "text/x-python",
   "name": "python",
   "nbconvert_exporter": "python",
   "pygments_lexer": "ipython3",
   "version": "3.8.8"
  }
 },
 "nbformat": 4,
 "nbformat_minor": 5
}
