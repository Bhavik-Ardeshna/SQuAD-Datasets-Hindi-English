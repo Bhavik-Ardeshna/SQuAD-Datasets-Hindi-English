{
 "cells": [
  {
   "cell_type": "code",
   "execution_count": 14,
   "id": "5ae1b8e2",
   "metadata": {},
   "outputs": [],
   "source": [
    "import pandas as pd\n",
    "import numpy as np\n",
    "import json\n",
    "\n",
    "import matplotlib.pyplot as plt\n",
    "%matplotlib inline"
   ]
  },
  {
   "cell_type": "code",
   "execution_count": 15,
   "id": "377db42f",
   "metadata": {},
   "outputs": [],
   "source": [
    "kaggle_dataset = pd.read_csv(\"./train.csv\")\n",
    "kaggle_dataset_hindi = kaggle_dataset[kaggle_dataset['language']=='hindi']"
   ]
  },
  {
   "cell_type": "code",
   "execution_count": 16,
   "id": "13eb8fde",
   "metadata": {},
   "outputs": [],
   "source": [
    "kaggle_dataset_hindi = kaggle_dataset_hindi.drop(columns='language',axis=1)"
   ]
  },
  {
   "cell_type": "code",
   "execution_count": 17,
   "id": "41ac8bd9",
   "metadata": {},
   "outputs": [],
   "source": [
    "kaggle_dataset_hindi.reset_index(inplace = True)"
   ]
  },
  {
   "cell_type": "code",
   "execution_count": 18,
   "id": "4a9cc561",
   "metadata": {},
   "outputs": [
    {
     "data": {
      "text/html": [
       "<div>\n",
       "<style scoped>\n",
       "    .dataframe tbody tr th:only-of-type {\n",
       "        vertical-align: middle;\n",
       "    }\n",
       "\n",
       "    .dataframe tbody tr th {\n",
       "        vertical-align: top;\n",
       "    }\n",
       "\n",
       "    .dataframe thead th {\n",
       "        text-align: right;\n",
       "    }\n",
       "</style>\n",
       "<table border=\"1\" class=\"dataframe\">\n",
       "  <thead>\n",
       "    <tr style=\"text-align: right;\">\n",
       "      <th></th>\n",
       "      <th>index</th>\n",
       "      <th>id</th>\n",
       "      <th>context</th>\n",
       "      <th>question</th>\n",
       "      <th>answer_text</th>\n",
       "      <th>answer_start</th>\n",
       "    </tr>\n",
       "  </thead>\n",
       "  <tbody>\n",
       "    <tr>\n",
       "      <th>0</th>\n",
       "      <td>368</td>\n",
       "      <td>416091aeb</td>\n",
       "      <td>विषाणु अकोशिकीय अतिसूक्ष्म जीव हैं जो केवल जीव...</td>\n",
       "      <td>सन १८८६ में किसने बताया कि तम्बाकू में मोजेक र...</td>\n",
       "      <td>एडोल्फ मेयर</td>\n",
       "      <td>935</td>\n",
       "    </tr>\n",
       "    <tr>\n",
       "      <th>1</th>\n",
       "      <td>369</td>\n",
       "      <td>9d274ae3c</td>\n",
       "      <td>फ्लोरीन एक रासायनिक तत्व है। यह आवर्त सारणी (p...</td>\n",
       "      <td>फ्लोरीन की परमाणु संख्या क्या है?</td>\n",
       "      <td>9</td>\n",
       "      <td>166</td>\n",
       "    </tr>\n",
       "    <tr>\n",
       "      <th>2</th>\n",
       "      <td>370</td>\n",
       "      <td>da7397c5e</td>\n",
       "      <td>सीऐटल (अंग्रेजी: Seattle) अमेरिका के वाशिंगटन ...</td>\n",
       "      <td>सीटल शहर कहाँ स्थित है?</td>\n",
       "      <td>अमेरिका के वाशिंगटन राज्य</td>\n",
       "      <td>26</td>\n",
       "    </tr>\n",
       "    <tr>\n",
       "      <th>3</th>\n",
       "      <td>371</td>\n",
       "      <td>661880e43</td>\n",
       "      <td>सूर्य अथवा सूरज सौरमंडल के केन्द्र में स्थित ए...</td>\n",
       "      <td>पृथ्वी को सूर्य की परिक्रमा करने में कितने दिन...</td>\n",
       "      <td>28 दिनों</td>\n",
       "      <td>2762</td>\n",
       "    </tr>\n",
       "    <tr>\n",
       "      <th>4</th>\n",
       "      <td>372</td>\n",
       "      <td>3e3a2bed4</td>\n",
       "      <td>दिल्ली नगर निगम एक शहर व नगर निगम है, जो दिल्ल...</td>\n",
       "      <td>दिल्ली नगर निगम, दिल्ली के कितने जिलों में कार...</td>\n",
       "      <td>कुल नौ जिलों</td>\n",
       "      <td>51</td>\n",
       "    </tr>\n",
       "  </tbody>\n",
       "</table>\n",
       "</div>"
      ],
      "text/plain": [
       "   index         id                                            context  \\\n",
       "0    368  416091aeb  विषाणु अकोशिकीय अतिसूक्ष्म जीव हैं जो केवल जीव...   \n",
       "1    369  9d274ae3c  फ्लोरीन एक रासायनिक तत्व है। यह आवर्त सारणी (p...   \n",
       "2    370  da7397c5e  सीऐटल (अंग्रेजी: Seattle) अमेरिका के वाशिंगटन ...   \n",
       "3    371  661880e43  सूर्य अथवा सूरज सौरमंडल के केन्द्र में स्थित ए...   \n",
       "4    372  3e3a2bed4  दिल्ली नगर निगम एक शहर व नगर निगम है, जो दिल्ल...   \n",
       "\n",
       "                                            question  \\\n",
       "0  सन १८८६ में किसने बताया कि तम्बाकू में मोजेक र...   \n",
       "1                  फ्लोरीन की परमाणु संख्या क्या है?   \n",
       "2                            सीटल शहर कहाँ स्थित है?   \n",
       "3  पृथ्वी को सूर्य की परिक्रमा करने में कितने दिन...   \n",
       "4  दिल्ली नगर निगम, दिल्ली के कितने जिलों में कार...   \n",
       "\n",
       "                 answer_text  answer_start  \n",
       "0                एडोल्फ मेयर           935  \n",
       "1                          9           166  \n",
       "2  अमेरिका के वाशिंगटन राज्य            26  \n",
       "3                   28 दिनों          2762  \n",
       "4               कुल नौ जिलों            51  "
      ]
     },
     "execution_count": 18,
     "metadata": {},
     "output_type": "execute_result"
    }
   ],
   "source": [
    "kaggle_dataset_hindi.head()"
   ]
  },
  {
   "cell_type": "code",
   "execution_count": 19,
   "id": "17381943",
   "metadata": {},
   "outputs": [
    {
     "data": {
      "text/html": [
       "<div>\n",
       "<style scoped>\n",
       "    .dataframe tbody tr th:only-of-type {\n",
       "        vertical-align: middle;\n",
       "    }\n",
       "\n",
       "    .dataframe tbody tr th {\n",
       "        vertical-align: top;\n",
       "    }\n",
       "\n",
       "    .dataframe thead th {\n",
       "        text-align: right;\n",
       "    }\n",
       "</style>\n",
       "<table border=\"1\" class=\"dataframe\">\n",
       "  <thead>\n",
       "    <tr style=\"text-align: right;\">\n",
       "      <th></th>\n",
       "      <th>id</th>\n",
       "      <th>context</th>\n",
       "      <th>question</th>\n",
       "      <th>answer_text</th>\n",
       "      <th>answer_start</th>\n",
       "    </tr>\n",
       "  </thead>\n",
       "  <tbody>\n",
       "    <tr>\n",
       "      <th>0</th>\n",
       "      <td>416091aeb</td>\n",
       "      <td>विषाणु अकोशिकीय अतिसूक्ष्म जीव हैं जो केवल जीव...</td>\n",
       "      <td>सन १८८६ में किसने बताया कि तम्बाकू में मोजेक र...</td>\n",
       "      <td>एडोल्फ मेयर</td>\n",
       "      <td>935</td>\n",
       "    </tr>\n",
       "    <tr>\n",
       "      <th>1</th>\n",
       "      <td>9d274ae3c</td>\n",
       "      <td>फ्लोरीन एक रासायनिक तत्व है। यह आवर्त सारणी (p...</td>\n",
       "      <td>फ्लोरीन की परमाणु संख्या क्या है?</td>\n",
       "      <td>9</td>\n",
       "      <td>166</td>\n",
       "    </tr>\n",
       "    <tr>\n",
       "      <th>2</th>\n",
       "      <td>da7397c5e</td>\n",
       "      <td>सीऐटल (अंग्रेजी: Seattle) अमेरिका के वाशिंगटन ...</td>\n",
       "      <td>सीटल शहर कहाँ स्थित है?</td>\n",
       "      <td>अमेरिका के वाशिंगटन राज्य</td>\n",
       "      <td>26</td>\n",
       "    </tr>\n",
       "    <tr>\n",
       "      <th>3</th>\n",
       "      <td>661880e43</td>\n",
       "      <td>सूर्य अथवा सूरज सौरमंडल के केन्द्र में स्थित ए...</td>\n",
       "      <td>पृथ्वी को सूर्य की परिक्रमा करने में कितने दिन...</td>\n",
       "      <td>28 दिनों</td>\n",
       "      <td>2762</td>\n",
       "    </tr>\n",
       "    <tr>\n",
       "      <th>4</th>\n",
       "      <td>3e3a2bed4</td>\n",
       "      <td>दिल्ली नगर निगम एक शहर व नगर निगम है, जो दिल्ल...</td>\n",
       "      <td>दिल्ली नगर निगम, दिल्ली के कितने जिलों में कार...</td>\n",
       "      <td>कुल नौ जिलों</td>\n",
       "      <td>51</td>\n",
       "    </tr>\n",
       "  </tbody>\n",
       "</table>\n",
       "</div>"
      ],
      "text/plain": [
       "          id                                            context  \\\n",
       "0  416091aeb  विषाणु अकोशिकीय अतिसूक्ष्म जीव हैं जो केवल जीव...   \n",
       "1  9d274ae3c  फ्लोरीन एक रासायनिक तत्व है। यह आवर्त सारणी (p...   \n",
       "2  da7397c5e  सीऐटल (अंग्रेजी: Seattle) अमेरिका के वाशिंगटन ...   \n",
       "3  661880e43  सूर्य अथवा सूरज सौरमंडल के केन्द्र में स्थित ए...   \n",
       "4  3e3a2bed4  दिल्ली नगर निगम एक शहर व नगर निगम है, जो दिल्ल...   \n",
       "\n",
       "                                            question  \\\n",
       "0  सन १८८६ में किसने बताया कि तम्बाकू में मोजेक र...   \n",
       "1                  फ्लोरीन की परमाणु संख्या क्या है?   \n",
       "2                            सीटल शहर कहाँ स्थित है?   \n",
       "3  पृथ्वी को सूर्य की परिक्रमा करने में कितने दिन...   \n",
       "4  दिल्ली नगर निगम, दिल्ली के कितने जिलों में कार...   \n",
       "\n",
       "                 answer_text  answer_start  \n",
       "0                एडोल्फ मेयर           935  \n",
       "1                          9           166  \n",
       "2  अमेरिका के वाशिंगटन राज्य            26  \n",
       "3                   28 दिनों          2762  \n",
       "4               कुल नौ जिलों            51  "
      ]
     },
     "execution_count": 19,
     "metadata": {},
     "output_type": "execute_result"
    }
   ],
   "source": [
    "kaggle_dataset_hindi = kaggle_dataset_hindi.drop(columns='index',axis=1)\n",
    "kaggle_dataset_hindi.head()"
   ]
  },
  {
   "cell_type": "code",
   "execution_count": 26,
   "id": "b6ece5f4",
   "metadata": {},
   "outputs": [],
   "source": [
    "kaggle_dataset_hindi.to_csv(\"con_hindi.csv\")"
   ]
  },
  {
   "cell_type": "code",
   "execution_count": 27,
   "id": "2fae8fa5",
   "metadata": {},
   "outputs": [],
   "source": [
    "import pandas as pd\n",
    "import json\n",
    "from typing import List, Dict, Optional\n",
    "from pathlib import Path"
   ]
  },
  {
   "cell_type": "code",
   "execution_count": 28,
   "id": "04139a2a",
   "metadata": {},
   "outputs": [],
   "source": [
    "def read_json(from_path: Path) -> dict:\n",
    "    with open(from_path, 'r', encoding='utf-8') as out_file:\n",
    "        return json.load(out_file)\n",
    "        \n",
    "def write_json(data: dict, out_path: Path) -> None:\n",
    "    with open(out_path, 'w', encoding='utf-8') as out_file:\n",
    "        json.dump(data, out_file, indent=2, sort_keys=True, ensure_ascii=False)"
   ]
  },
  {
   "cell_type": "code",
   "execution_count": 29,
   "id": "9eab8c2b",
   "metadata": {},
   "outputs": [],
   "source": [
    "def df_to_squad_format(path: Path, out_name: str, lang: Optional[str] = None) -> Path:\n",
    "    df = pd.read_csv(path)\n",
    "    if lang:\n",
    "        df = df.loc[df.language == lang].copy()\n",
    "        out_name = f'{out_name}_{lang}'\n",
    "    \n",
    "    data = []\n",
    "    for _, row in df.iterrows():\n",
    "        answers = {}\n",
    "        ans = []\n",
    "        try:\n",
    "            answers['answer_start'] = int(row['answer_start'])\n",
    "            answers['text'] = row['answer_text']\n",
    "            ans.append(answers)\n",
    "        except:\n",
    "            answers = {'answer_start': [-1], 'text': ['']}\n",
    "        data.append(\n",
    "            {\n",
    "            'qas':[{\n",
    "                'answers': ans,\n",
    "                'id': row['id'],\n",
    "                'question': row['question'],\n",
    "            }],\n",
    "#             'answers': answers,\n",
    "            'context': row['context'],\n",
    "#             'id': row['id'],\n",
    "#             'question': row['question'],\n",
    "            'title': ''\n",
    "            }\n",
    "        )\n",
    "    \n",
    "    df_as_squad = {'data': data, 'version': out_name}\n",
    "    \n",
    "    out_path = f'./{out_name}.json'\n",
    "    write_json(df_as_squad, out_path)\n",
    "    print('The data has been converted to SQuAD format and saved as a JSON object.')\n",
    "    return out_path"
   ]
  },
  {
   "cell_type": "code",
   "execution_count": 31,
   "id": "e2ae17b1",
   "metadata": {},
   "outputs": [
    {
     "name": "stdout",
     "output_type": "stream",
     "text": [
      "The data has been converted to SQuAD format and saved as a JSON object.\n"
     ]
    },
    {
     "data": {
      "text/plain": [
       "{'context': 'विषाणु अकोशिकीय अतिसूक्ष्म जीव हैं जो केवल जीवित कोशिका में ही वंश वृद्धि कर सकते हैं।[1] ये नाभिकीय अम्ल और प्रोटीन से मिलकर गठित होते हैं, शरीर के बाहर तो ये मृत-समान होते हैं परंतु शरीर के अंदर जीवित हो जाते हैं। इन्हे क्रिस्टल के रूप में इकट्ठा किया जा सकता है। एक विषाणु बिना किसी सजीव माध्यम के पुनरुत्पादन नहीं कर सकता है। यह सैकड़ों वर्षों तक सुशुप्तावस्था में रह सकता है और जब भी एक जीवित मध्यम या धारक के संपर्क में आता है उस जीव की कोशिका को भेद कर आच्छादित कर देता है और जीव बीमार हो जाता है। एक बार जब विषाणु जीवित कोशिका में प्रवेश कर जाता है, वह कोशिका के मूल आरएनए एवं डीएनए की जेनेटिक संरचना को अपनी जेनेटिक सूचना से बदल देता है और संक्रमित कोशिका अपने जैसे संक्रमित कोशिकाओं का पुनरुत्पादन शुरू कर देती है।\\nविषाणु का अंग्रेजी शब्द वाइरस का शाब्दिक अर्थ विष होता है। सर्वप्रथम सन १७९६ में डाक्टर एडवर्ड जेनर ने पता लगाया कि चेचक, विषाणु के कारण होता है। उन्होंने चेचक के टीके का आविष्कार भी किया। इसके बाद सन १८८६ में एडोल्फ मेयर ने बताया कि तम्बाकू में मोजेक रोग एक विशेष प्रकार के वाइरस के द्वारा होता है। रूसी वनस्पति शास्त्री इवानोवस्की ने भी १८९२ में तम्बाकू में होने वाले मोजेक रोग का अध्ययन करते समय विषाणु के अस्तित्व का पता लगाया। बेजेर्निक और बोर ने भी तम्बाकू के पत्ते पर इसका प्रभाव देखा और उसका नाम टोबेको मोजेक रखा। मोजेक शब्द रखने का कारण इनका मोजेक के समान तम्बाकू के पत्ते पर चिन्ह पाया जाना था। इस चिन्ह को देखकर इस विशेष विषाणु का नाम उन्होंने टोबेको मोजेक वाइरस रखा।[2]\\nविषाणु लाभप्रद एवं हानिकारक दोनों प्रकार के होते हैं। जीवाणुभोजी विषाणु एक लाभप्रद विषाणु है, यह हैजा, पेचिश, टायफायड आदि रोग उत्पन्न करने वाले जीवाणुओं को नष्ट कर मानव की रोगों से रक्षा करता है। कुछ विषाणु पौधे या जन्तुओं में रोग उत्पन्न करते हैं एवं हानिप्रद होते हैं। एचआईवी, इन्फ्लूएन्जा वाइरस, पोलियो वाइरस रोग उत्पन्न करने वाले प्रमुख विषाणु हैं। सम्पर्क द्वारा, वायु द्वारा, भोजन एवं जल द्वारा तथा कीटों द्वारा विषाणुओं का संचरण होता है परन्तु विशिष्ट प्रकार के विषाणु विशिष्ट विधियों द्वारा संचरण करते हैं।\\n\"वायरस कोशिका के बाहर तो मरे हुए ऱहते है लेकिन जब ये कोशिका मैंं प्रवेश करते है तो इनका जीवन चक्र प्रारम्भ होने लगता है \"by siddharth lodha ratlai.\\n सन्दर्भ \\n\\nश्रेणी:विषाणु\\nश्रेणी:सूक्ष्मजैविकी\\nश्रेणी:हिन्दी विकि डीवीडी परियोजना',\n",
       " 'qas': [{'answers': [{'answer_start': 935, 'text': 'एडोल्फ मेयर'}],\n",
       "   'id': '416091aeb',\n",
       "   'question': 'सन १८८६ में किसने बताया कि तम्बाकू में मोजेक रोग एक विशेष प्रकार के वाइरस के द्वारा होता है?'}],\n",
       " 'title': ''}"
      ]
     },
     "execution_count": 31,
     "metadata": {},
     "output_type": "execute_result"
    }
   ],
   "source": [
    "# convert chaii train df \n",
    "train_df_path = './con_hindi.csv'\n",
    "chaii_train = df_to_squad_format(train_df_path, 'chaii_hindi_train')\n",
    "\n",
    "#check\n",
    "read_json(chaii_train)['data'][0]"
   ]
  },
  {
   "cell_type": "code",
   "execution_count": null,
   "id": "9de39825",
   "metadata": {},
   "outputs": [],
   "source": []
  }
 ],
 "metadata": {
  "kernelspec": {
   "display_name": "Python 3",
   "language": "python",
   "name": "python3"
  },
  "language_info": {
   "codemirror_mode": {
    "name": "ipython",
    "version": 3
   },
   "file_extension": ".py",
   "mimetype": "text/x-python",
   "name": "python",
   "nbconvert_exporter": "python",
   "pygments_lexer": "ipython3",
   "version": "3.8.8"
  }
 },
 "nbformat": 4,
 "nbformat_minor": 5
}
